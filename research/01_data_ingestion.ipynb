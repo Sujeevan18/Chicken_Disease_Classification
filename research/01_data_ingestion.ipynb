{
 "cells": [
  {
   "cell_type": "code",
   "execution_count": 6,
   "id": "f3a27cf1",
   "metadata": {},
   "outputs": [
    {
     "name": "stdout",
     "output_type": "stream",
     "text": [
      "Project root: c:\\Users\\yogar\\OneDrive\\Desktop\\MLops\\Chicken_Disease_Classification\\Chicken_Disease_Classification\n",
      "Src path added: c:\\Users\\yogar\\OneDrive\\Desktop\\MLops\\Chicken_Disease_Classification\\Chicken_Disease_Classification\\src\n"
     ]
    }
   ],
   "source": [
    "# --- Imports & safe project path setup ---\n",
    "import sys, os, zipfile, urllib.request\n",
    "from pathlib import Path\n",
    "from dataclasses import dataclass\n",
    "import yaml\n",
    "\n",
    "# Resolve project root as the parent of this 'research' folder\n",
    "CWD = Path.cwd()\n",
    "if (CWD.name.lower() == \"research\") and (CWD.parent / \"src\").exists():\n",
    "    PROJECT_ROOT = CWD.parent\n",
    "else:\n",
    "    _p = CWD\n",
    "    PROJECT_ROOT = None\n",
    "    for _ in range(6):\n",
    "        if (_p / \"src\").exists() and (_p / \"config\").exists():\n",
    "            PROJECT_ROOT = _p\n",
    "            break\n",
    "        _p = _p.parent\n",
    "    if PROJECT_ROOT is None:\n",
    "        raise RuntimeError(\"Could not locate project root with 'src' and 'config' folders.\")\n",
    "\n",
    "SRC_DIR = PROJECT_ROOT / \"src\"\n",
    "if str(SRC_DIR) not in sys.path:\n",
    "    sys.path.insert(0, str(SRC_DIR))\n",
    "\n",
    "print(\"Project root:\", PROJECT_ROOT)\n",
    "print(\"Src path added:\", SRC_DIR)\n"
   ]
  },
  {
   "cell_type": "code",
   "execution_count": 7,
   "id": "d1f36a60",
   "metadata": {},
   "outputs": [
    {
     "name": "stdout",
     "output_type": "stream",
     "text": [
      "Package import failed (will use fallback): No module named 'box'\n"
     ]
    }
   ],
   "source": [
    "# --- Optional: use helpers if package is available ---\n",
    "try:\n",
    "    from cnnClassifier.utils.common import create_directories, read_yaml\n",
    "    package_available = True\n",
    "except Exception as _e:\n",
    "    package_available = False\n",
    "    print(\"Package import failed (will use fallback):\", _e)\n",
    "\n",
    "if not package_available:\n",
    "    def read_yaml(path_to_yaml: Path):\n",
    "        with open(path_to_yaml, \"r\", encoding=\"utf-8\") as f:\n",
    "            return yaml.safe_load(f)\n",
    "    def create_directories(paths):\n",
    "        for p in paths:\n",
    "            Path(p).mkdir(parents=True, exist_ok=True)"
   ]
  },
  {
   "cell_type": "code",
   "execution_count": 8,
   "id": "0ac01a3d",
   "metadata": {},
   "outputs": [
    {
     "data": {
      "text/plain": [
       "DataIngestionConfig(root_dir=WindowsPath('artifacts/data_ingestion'), source_URL='https://github.com/entbappy/Branching-tutorial/raw/master/Chicken-fecal-images.zip', local_data_file=WindowsPath('artifacts/data_ingestion/data.zip'), unzip_dir=WindowsPath('artifacts/data_ingestion'))"
      ]
     },
     "execution_count": 8,
     "metadata": {},
     "output_type": "execute_result"
    }
   ],
   "source": [
    "# --- Configuration dataclass & loader ---\n",
    "@dataclass\n",
    "class DataIngestionConfig:\n",
    "    root_dir: Path\n",
    "    source_URL: str\n",
    "    local_data_file: Path\n",
    "    unzip_dir: Path\n",
    "\n",
    "def load_data_ingestion_config(config_path: Path = None) -> DataIngestionConfig:\n",
    "    if config_path is None:\n",
    "        config_path = PROJECT_ROOT / \"config\" / \"config.yaml\"\n",
    "    cfg = read_yaml(config_path)\n",
    "    di = cfg.get(\"data_ingestion\", {})\n",
    "    if not di:\n",
    "        raise KeyError(\"'data_ingestion' section not found in config.yaml\")\n",
    "    return DataIngestionConfig(\n",
    "        root_dir = Path(di[\"root_dir\"]),\n",
    "        source_URL = di[\"source_URL\"],\n",
    "        local_data_file = Path(di[\"local_data_file\"]),\n",
    "        unzip_dir = Path(di[\"unzip_dir\"]),\n",
    "    )\n",
    "\n",
    "config = load_data_ingestion_config()\n",
    "config\n"
   ]
  },
  {
   "cell_type": "code",
   "execution_count": 9,
   "id": "42cc2478",
   "metadata": {},
   "outputs": [],
   "source": [
    "# --- DataIngestion implementation ---\n",
    "class DataIngestion:\n",
    "    def __init__(self, config: DataIngestionConfig):\n",
    "        self.config = config\n",
    "        create_directories([self.config.root_dir])\n",
    "\n",
    "    def download_file(self):\n",
    "        \"\"\"Download the dataset zip to local_data_file. Skips if already exists.\"\"\"\n",
    "        target = PROJECT_ROOT / self.config.local_data_file\n",
    "        target.parent.mkdir(parents=True, exist_ok=True)\n",
    "        if target.exists() and target.stat().st_size > 0:\n",
    "            print(f\"File already exists at {target} (size={target.stat().st_size} bytes). Skipping download.\")\n",
    "            return target\n",
    "        print(\"Downloading from:\", self.config.source_URL)\n",
    "        print(\"Saving to:\", target)\n",
    "        urllib.request.urlretrieve(self.config.source_URL, target)\n",
    "        print(\"Download complete.\")\n",
    "        return target\n",
    "\n",
    "    def extract_zip_file(self):\n",
    "        \"\"\"Extract the downloaded zip file into unzip_dir.\"\"\"\n",
    "        zip_path = PROJECT_ROOT / self.config.local_data_file\n",
    "        extract_to = PROJECT_ROOT / self.config.unzip_dir\n",
    "        extract_to.mkdir(parents=True, exist_ok=True)\n",
    "        if not zip_path.exists():\n",
    "            raise FileNotFoundError(f\"Expected zip file not found at {zip_path}\")\n",
    "        with zipfile.ZipFile(zip_path, 'r') as zip_ref:\n",
    "            zip_ref.extractall(extract_to)\n",
    "        print(f\"Extracted to: {extract_to.resolve()}\")\n",
    "        return extract_to\n"
   ]
  },
  {
   "cell_type": "code",
   "execution_count": 10,
   "id": "74c2ff08",
   "metadata": {},
   "outputs": [
    {
     "name": "stdout",
     "output_type": "stream",
     "text": [
      "File already exists at c:\\Users\\yogar\\OneDrive\\Desktop\\MLops\\Chicken_Disease_Classification\\Chicken_Disease_Classification\\artifacts\\data_ingestion\\data.zip (size=11616915 bytes). Skipping download.\n",
      "Extracted to: C:\\Users\\yogar\\OneDrive\\Desktop\\MLops\\Chicken_Disease_Classification\\Chicken_Disease_Classification\\artifacts\\data_ingestion\n"
     ]
    },
    {
     "data": {
      "text/plain": [
       "WindowsPath('c:/Users/yogar/OneDrive/Desktop/MLops/Chicken_Disease_Classification/Chicken_Disease_Classification/artifacts/data_ingestion')"
      ]
     },
     "execution_count": 10,
     "metadata": {},
     "output_type": "execute_result"
    }
   ],
   "source": [
    "# --- Run ingestion (download + extract) ---\n",
    "ingestion = DataIngestion(config)\n",
    "try:\n",
    "    ingestion.download_file()\n",
    "except Exception as e:\n",
    "    print(\"Download step failed (possibly due to no internet). Continuing to extraction if zip already exists.\\n\", e)\n",
    "\n",
    "ingestion.extract_zip_file()"
   ]
  }
 ],
 "metadata": {
  "kernelspec": {
   "display_name": "Python 3",
   "language": "python",
   "name": "python3"
  },
  "language_info": {
   "codemirror_mode": {
    "name": "ipython",
    "version": 3
   },
   "file_extension": ".py",
   "mimetype": "text/x-python",
   "name": "python",
   "nbconvert_exporter": "python",
   "pygments_lexer": "ipython3",
   "version": "3.13.2"
  }
 },
 "nbformat": 4,
 "nbformat_minor": 5
}
