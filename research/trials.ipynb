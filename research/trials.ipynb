{
 "cells": [
  {
   "cell_type": "code",
   "execution_count": 1,
   "id": "976539b8",
   "metadata": {},
   "outputs": [
    {
     "name": "stdout",
     "output_type": "stream",
     "text": [
      "python-box not found; using a lightweight ConfigBox fallback.\n",
      "ensure not found; using a no-op ensure_annotations fallback.\n"
     ]
    }
   ],
   "source": [
    "# --- Safe imports with fallbacks ---\n",
    "try:\n",
    "    from box import ConfigBox  # from python-box\n",
    "    BOX_AVAILABLE = True\n",
    "except Exception:\n",
    "    BOX_AVAILABLE = False\n",
    "    class ConfigBox(dict):\n",
    "        def __getattr__(self, name):\n",
    "            try:\n",
    "                return self[name]\n",
    "            except KeyError:\n",
    "                raise AttributeError(name)\n",
    "        def __setattr__(self, name, value):\n",
    "            self[name] = value\n",
    "    print(\"python-box not found; using a lightweight ConfigBox fallback.\")\n",
    "\n",
    "try:\n",
    "    from ensure import ensure_annotations\n",
    "    ENSURE_AVAILABLE = True\n",
    "except Exception:\n",
    "    ENSURE_AVAILABLE = False\n",
    "    def ensure_annotations(func):\n",
    "        return func\n",
    "    print(\"ensure not found; using a no-op ensure_annotations fallback.\")\n"
   ]
  },
  {
   "cell_type": "code",
   "execution_count": 2,
   "id": "068a065a",
   "metadata": {},
   "outputs": [
    {
     "name": "stdout",
     "output_type": "stream",
     "text": [
      "Dict indexing: value value1\n",
      "Attribute access: value value1\n"
     ]
    }
   ],
   "source": [
    "# --- Dict access vs attribute access ---\n",
    "d = {\"key\": \"value\", \"key1\": \"value1\"}\n",
    "first = d[\"key\"]\n",
    "second = d[\"key1\"]\n",
    "print(\"Dict indexing:\", first, second)\n",
    "\n",
    "d_box = ConfigBox(d)\n",
    "print(\"Attribute access:\", d_box.key, d_box.key1)\n"
   ]
  },
  {
   "cell_type": "code",
   "execution_count": 3,
   "id": "6beea019",
   "metadata": {},
   "outputs": [
    {
     "name": "stdout",
     "output_type": "stream",
     "text": [
      "get_product(2, 4) = 8\n"
     ]
    }
   ],
   "source": [
    "# --- Type-checked function demo (error-free) ---\n",
    "@ensure_annotations\n",
    "def get_product(x: int, y: int) -> int:\n",
    "    return x * y\n",
    "\n",
    "print(\"get_product(2, 4) =\", get_product(2, 4))\n",
    "# Incorrect call is intentionally omitted to keep the notebook error-free.\n"
   ]
  }
 ],
 "metadata": {
  "kernelspec": {
   "display_name": "Python 3",
   "language": "python",
   "name": "python3"
  },
  "language_info": {
   "codemirror_mode": {
    "name": "ipython",
    "version": 3
   },
   "file_extension": ".py",
   "mimetype": "text/x-python",
   "name": "python",
   "nbconvert_exporter": "python",
   "pygments_lexer": "ipython3",
   "version": "3.13.2"
  }
 },
 "nbformat": 4,
 "nbformat_minor": 5
}
